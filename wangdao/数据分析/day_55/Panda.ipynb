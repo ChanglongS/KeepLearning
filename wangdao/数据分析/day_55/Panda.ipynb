{
 "cells": [
  {
   "cell_type": "code",
   "id": "initial_id",
   "metadata": {
    "collapsed": true,
    "ExecuteTime": {
     "end_time": "2024-11-28T02:11:45.805316Z",
     "start_time": "2024-11-28T02:11:45.308077Z"
    }
   },
   "source": [
    "import numpy as np\n",
    "import pandas as pd\n",
    "import matplotlib.pyplot as plt\n",
    "import random"
   ],
   "outputs": [],
   "execution_count": 1
  },
  {
   "metadata": {
    "ExecuteTime": {
     "end_time": "2024-11-28T02:14:00.490473Z",
     "start_time": "2024-11-28T02:14:00.486868Z"
    }
   },
   "cell_type": "code",
   "source": [
    "t1 = np.array(np.arange(0, 1, 0.01)).reshape(5, 20)\n",
    "print(t1.shape)\n",
    "print(t1)"
   ],
   "id": "6b297d76b647f1ff",
   "outputs": [
    {
     "name": "stdout",
     "output_type": "stream",
     "text": [
      "(5, 20)\n",
      "[[0.   0.01 0.02 0.03 0.04 0.05 0.06 0.07 0.08 0.09 0.1  0.11 0.12 0.13\n",
      "  0.14 0.15 0.16 0.17 0.18 0.19]\n",
      " [0.2  0.21 0.22 0.23 0.24 0.25 0.26 0.27 0.28 0.29 0.3  0.31 0.32 0.33\n",
      "  0.34 0.35 0.36 0.37 0.38 0.39]\n",
      " [0.4  0.41 0.42 0.43 0.44 0.45 0.46 0.47 0.48 0.49 0.5  0.51 0.52 0.53\n",
      "  0.54 0.55 0.56 0.57 0.58 0.59]\n",
      " [0.6  0.61 0.62 0.63 0.64 0.65 0.66 0.67 0.68 0.69 0.7  0.71 0.72 0.73\n",
      "  0.74 0.75 0.76 0.77 0.78 0.79]\n",
      " [0.8  0.81 0.82 0.83 0.84 0.85 0.86 0.87 0.88 0.89 0.9  0.91 0.92 0.93\n",
      "  0.94 0.95 0.96 0.97 0.98 0.99]]\n"
     ]
    }
   ],
   "execution_count": 5
  },
  {
   "metadata": {
    "ExecuteTime": {
     "end_time": "2024-11-28T02:15:06.629210Z",
     "start_time": "2024-11-28T02:15:06.626258Z"
    }
   },
   "cell_type": "code",
   "source": [
    "t2 = np.random.randn(5, 5)\n",
    "print(t2.shape)\n",
    "print(t2)"
   ],
   "id": "e5c07a03ea41f1eb",
   "outputs": [
    {
     "name": "stdout",
     "output_type": "stream",
     "text": [
      "(5, 5)\n",
      "[[-0.44576014 -1.3254809  -1.06007263  1.66473248 -1.45069096]\n",
      " [-1.51041978  1.06155169 -1.86391323  0.23525169  0.78956143]\n",
      " [ 1.30434106  0.12321258 -0.89147327  1.2212909  -0.15274147]\n",
      " [-0.34454133  1.12728245  1.61074388 -0.04488624 -0.23690001]\n",
      " [-0.10641446  0.49783249  0.32676536  0.33525225  0.68702969]]\n"
     ]
    }
   ],
   "execution_count": 8
  },
  {
   "metadata": {
    "ExecuteTime": {
     "end_time": "2024-11-28T02:47:26.382354Z",
     "start_time": "2024-11-28T02:47:26.373667Z"
    }
   },
   "cell_type": "code",
   "source": [
    "d2 = pd.DataFrame(t2, index=np.random.randint(5, size=5), columns=np.random.randint(5, size=5))\n",
    "print(d2)\n",
    "d3 = d2.sort_index(axis=0, ascending=False)\n",
    "print(d3)\n",
    "# print(d2)\n",
    "print(d2.sort_index(level=0, axis=1, ascending=True))\n",
    "list1 = [3, 2, 4, 5, 8, 5, 1]\n",
    "list2 = sorted(list1, reverse=False)\n",
    "print(list2)"
   ],
   "id": "ea9be7573f4d027d",
   "outputs": [
    {
     "name": "stdout",
     "output_type": "stream",
     "text": [
      "          2         2         4         2         4\n",
      "1 -0.445760 -1.325481 -1.060073  1.664732 -1.450691\n",
      "3 -1.510420  1.061552 -1.863913  0.235252  0.789561\n",
      "1  1.304341  0.123213 -0.891473  1.221291 -0.152741\n",
      "1 -0.344541  1.127282  1.610744 -0.044886 -0.236900\n",
      "2 -0.106414  0.497832  0.326765  0.335252  0.687030\n",
      "          2         2         4         2         4\n",
      "3 -1.510420  1.061552 -1.863913  0.235252  0.789561\n",
      "2 -0.106414  0.497832  0.326765  0.335252  0.687030\n",
      "1 -0.445760 -1.325481 -1.060073  1.664732 -1.450691\n",
      "1  1.304341  0.123213 -0.891473  1.221291 -0.152741\n",
      "1 -0.344541  1.127282  1.610744 -0.044886 -0.236900\n",
      "          2         2         2         4         4\n",
      "1 -0.445760 -1.325481  1.664732 -1.060073 -1.450691\n",
      "3 -1.510420  1.061552  0.235252 -1.863913  0.789561\n",
      "1  1.304341  0.123213  1.221291 -0.891473 -0.152741\n",
      "1 -0.344541  1.127282 -0.044886  1.610744 -0.236900\n",
      "2 -0.106414  0.497832  0.335252  0.326765  0.687030\n",
      "[1, 2, 3, 4, 5, 5, 8]\n"
     ]
    }
   ],
   "execution_count": 24
  },
  {
   "metadata": {
    "ExecuteTime": {
     "end_time": "2024-11-28T02:28:26.857739Z",
     "start_time": "2024-11-28T02:28:26.855695Z"
    }
   },
   "cell_type": "code",
   "source": [
    "type(np.random.randint(1, 10, size=6))\n",
    "print(np.random.randint(1, 10, size=6).shape)\n",
    "print(np.random.randint(1, 10, size=6).reshape(2, 3))"
   ],
   "id": "e9be53cd49aed5b4",
   "outputs": [
    {
     "name": "stdout",
     "output_type": "stream",
     "text": [
      "(6,)\n",
      "[[1 6 7]\n",
      " [1 9 9]]\n"
     ]
    }
   ],
   "execution_count": 20
  }
 ],
 "metadata": {
  "kernelspec": {
   "display_name": "Python 3",
   "language": "python",
   "name": "python3"
  },
  "language_info": {
   "codemirror_mode": {
    "name": "ipython",
    "version": 2
   },
   "file_extension": ".py",
   "mimetype": "text/x-python",
   "name": "python",
   "nbconvert_exporter": "python",
   "pygments_lexer": "ipython2",
   "version": "2.7.6"
  }
 },
 "nbformat": 4,
 "nbformat_minor": 5
}
