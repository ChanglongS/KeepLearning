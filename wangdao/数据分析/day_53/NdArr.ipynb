{
 "cells": [
  {
   "cell_type": "code",
   "id": "initial_id",
   "metadata": {
    "collapsed": true,
    "ExecuteTime": {
     "end_time": "2024-11-26T00:59:06.153671Z",
     "start_time": "2024-11-26T00:59:06.014879Z"
    }
   },
   "source": [
    "import numpy as np\n",
    "\n",
    "list1 = [1, 2, 3, 4]\n",
    "print(list1)\n",
    "oneArray = np.array(list1)\n",
    "print(type(oneArray))\n",
    "print(oneArray)"
   ],
   "outputs": [
    {
     "name": "stdout",
     "output_type": "stream",
     "text": [
      "[1, 2, 3, 4]\n",
      "<class 'numpy.ndarray'>\n",
      "[1 2 3 4]\n"
     ]
    }
   ],
   "execution_count": 1
  },
  {
   "metadata": {
    "ExecuteTime": {
     "end_time": "2024-11-26T02:10:17.144267Z",
     "start_time": "2024-11-26T02:10:17.139605Z"
    }
   },
   "cell_type": "code",
   "source": [
    "import numpy as np\n",
    "\n",
    "t1 = np.arange(24).reshape(4, 6)\n",
    "print(t1)\n",
    "# 切片\n",
    "print(t1.shape)\n",
    "print(t1.dtype)\n",
    "print(t1.ndim)\n",
    "print(t1.size)\n",
    "print(t1[1:])\n",
    "print(t1[:2, 1:3])\n",
    "print(t1[[1, 3], [2, 4]])"
   ],
   "id": "71deaf158a74e65c",
   "outputs": [
    {
     "name": "stdout",
     "output_type": "stream",
     "text": [
      "[[ 0  1  2  3  4  5]\n",
      " [ 6  7  8  9 10 11]\n",
      " [12 13 14 15 16 17]\n",
      " [18 19 20 21 22 23]]\n",
      "(4, 6)\n",
      "int64\n",
      "2\n",
      "24\n",
      "[[ 6  7  8  9 10 11]\n",
      " [12 13 14 15 16 17]\n",
      " [18 19 20 21 22 23]]\n",
      "[[1 2]\n",
      " [7 8]]\n",
      "[ 8 22]\n"
     ]
    }
   ],
   "execution_count": 6
  },
  {
   "metadata": {
    "ExecuteTime": {
     "end_time": "2024-11-26T02:13:22.979928Z",
     "start_time": "2024-11-26T02:13:22.975506Z"
    }
   },
   "cell_type": "code",
   "source": [
    "import numpy as np\n",
    "\n",
    "t1 = np.arange(24).reshape((2, 3, 4))\n",
    "print(t1)\n",
    "print(np.sum(t1, axis=0))\n",
    "print(np.sum(t1, axis=1))\n",
    "print(np.sum(t1, axis=2))"
   ],
   "id": "b03e2522cb09ebb4",
   "outputs": [
    {
     "name": "stdout",
     "output_type": "stream",
     "text": [
      "[[[ 0  1  2  3]\n",
      "  [ 4  5  6  7]\n",
      "  [ 8  9 10 11]]\n",
      "\n",
      " [[12 13 14 15]\n",
      "  [16 17 18 19]\n",
      "  [20 21 22 23]]]\n",
      "[[12 14 16 18]\n",
      " [20 22 24 26]\n",
      " [28 30 32 34]]\n",
      "[[12 15 18 21]\n",
      " [48 51 54 57]]\n",
      "[[ 6 22 38]\n",
      " [54 70 86]]\n"
     ]
    }
   ],
   "execution_count": 10
  },
  {
   "metadata": {
    "ExecuteTime": {
     "end_time": "2024-11-26T02:16:53.973876Z",
     "start_time": "2024-11-26T02:16:53.971768Z"
    }
   },
   "cell_type": "code",
   "source": [
    "import numpy as np\n",
    "\n",
    "t1 = np.arange(24).reshape((4, 6))\n",
    "print(t1)\n",
    "t1[1, :] = 0\n",
    "print(t1)"
   ],
   "id": "fc5f033b4e461867",
   "outputs": [
    {
     "name": "stdout",
     "output_type": "stream",
     "text": [
      "[[ 0  1  2  3  4  5]\n",
      " [ 6  7  8  9 10 11]\n",
      " [12 13 14 15 16 17]\n",
      " [18 19 20 21 22 23]]\n",
      "[[ 0  1  2  3  4  5]\n",
      " [ 0  0  0  0  0  0]\n",
      " [12 13 14 15 16 17]\n",
      " [18 19 20 21 22 23]]\n"
     ]
    }
   ],
   "execution_count": 18
  },
  {
   "metadata": {
    "ExecuteTime": {
     "end_time": "2024-11-26T02:23:22.088991Z",
     "start_time": "2024-11-26T02:23:22.085872Z"
    }
   },
   "cell_type": "code",
   "source": [
    "m = 10 if 10 > 5 else 5\n",
    "print(m)"
   ],
   "id": "86e915454c32afcf",
   "outputs": [
    {
     "name": "stdout",
     "output_type": "stream",
     "text": [
      "10\n"
     ]
    }
   ],
   "execution_count": 21
  },
  {
   "metadata": {
    "ExecuteTime": {
     "end_time": "2024-11-26T02:28:03.176686Z",
     "start_time": "2024-11-26T02:28:03.173063Z"
    }
   },
   "cell_type": "code",
   "source": [
    "import numpy as np\n",
    "\n",
    "t1 = np.arange(24).reshape((4, 6))\n",
    "print(t1)\n",
    "t2 = t1.flatten()\n",
    "print(t2)"
   ],
   "id": "bf16de5fc2c87089",
   "outputs": [
    {
     "name": "stdout",
     "output_type": "stream",
     "text": [
      "[[ 0  1  2  3  4  5]\n",
      " [ 6  7  8  9 10 11]\n",
      " [12 13 14 15 16 17]\n",
      " [18 19 20 21 22 23]]\n",
      "[ 0  1  2  3  4  5  6  7  8  9 10 11 12 13 14 15 16 17 18 19 20 21 22 23]\n"
     ]
    }
   ],
   "execution_count": 23
  },
  {
   "metadata": {
    "ExecuteTime": {
     "end_time": "2024-11-26T06:09:15.800722Z",
     "start_time": "2024-11-26T06:09:15.796168Z"
    }
   },
   "cell_type": "code",
   "source": [
    "import numpy as np\n",
    "\n",
    "a = np.array([5, 2, 6, 2, 7, 5, 6, 9, 8, 2])\n",
    "u, indices = np.unique(a, return_index=True)\n",
    "print(u)\n",
    "print(indices)\n",
    "u, indices = np.unique(a, return_inverse=True)\n",
    "print(indices)\n",
    "u, indices = np.unique(a, return_counts=True)\n",
    "print(indices)"
   ],
   "id": "4f81a4223ca5518c",
   "outputs": [
    {
     "name": "stdout",
     "output_type": "stream",
     "text": [
      "[2 5 6 7 8 9]\n",
      "[1 0 2 4 8 7]\n",
      "[1 0 2 0 3 1 2 5 4 0]\n",
      "[3 2 2 1 1 1]\n"
     ]
    }
   ],
   "execution_count": 25
  },
  {
   "metadata": {
    "ExecuteTime": {
     "end_time": "2024-11-26T06:12:38.876559Z",
     "start_time": "2024-11-26T06:12:38.871248Z"
    }
   },
   "cell_type": "code",
   "source": [
    "import numpy as np\n",
    "\n",
    "score = np.array([[80, 88], [82, 81], [75, 81]])\n",
    "\n",
    "data = np.max(score)\n",
    "print(data)\n",
    "\n",
    "data = np.max(score, axis=0)\n",
    "print(data)\n",
    "\n",
    "data = np.maximum([-2, -1, 0, 1, 2], 0)\n",
    "print(data)\n",
    "\n",
    "avgNum = np.mean(score)\n",
    "print(avgNum)\n",
    "print(np.mean(score, axis=0))"
   ],
   "id": "2b358d40c31aaaec",
   "outputs": [
    {
     "name": "stdout",
     "output_type": "stream",
     "text": [
      "88\n",
      "[82 88]\n",
      "[0 0 0 1 2]\n",
      "81.16666666666667\n",
      "[79.         83.33333333]\n"
     ]
    }
   ],
   "execution_count": 31
  },
  {
   "metadata": {
    "ExecuteTime": {
     "end_time": "2024-11-26T06:16:22.868232Z",
     "start_time": "2024-11-26T06:16:22.865297Z"
    }
   },
   "cell_type": "code",
   "source": [
    "t1 = np.array([[1, 2, 3], [4, 5, 6]])\n",
    "print(t1)\n",
    "print(t1.cumsum(0))\n",
    "print(t1.cumsum(1))"
   ],
   "id": "8b281e2a827a5ac8",
   "outputs": [
    {
     "name": "stdout",
     "output_type": "stream",
     "text": [
      "[[1 2 3]\n",
      " [4 5 6]]\n",
      "[[1 2 3]\n",
      " [5 7 9]]\n",
      "[[ 1  3  6]\n",
      " [ 4  9 15]]\n"
     ]
    }
   ],
   "execution_count": 35
  },
  {
   "metadata": {
    "ExecuteTime": {
     "end_time": "2024-11-26T06:20:32.932914Z",
     "start_time": "2024-11-26T06:20:32.930319Z"
    }
   },
   "cell_type": "code",
   "source": [
    "import numpy as np\n",
    "\n",
    "a = np.array([[1, 2], [3, 4]])\n",
    "b = np.array([[5, 6], [7, 8]])\n",
    "\n",
    "t1 = np.concatenate((a, b), axis=0)\n",
    "print(t1)\n",
    "t2 = np.concatenate((a, b), axis=1)\n",
    "print(t2)\n",
    "\n",
    "t3 = np.stack((a, b), axis=0)\n",
    "print(t3)"
   ],
   "id": "3b3f4e2333a54ff4",
   "outputs": [
    {
     "name": "stdout",
     "output_type": "stream",
     "text": [
      "[[1 2]\n",
      " [3 4]\n",
      " [5 6]\n",
      " [7 8]]\n",
      "[[1 2 5 6]\n",
      " [3 4 7 8]]\n",
      "[[[1 2]\n",
      "  [3 4]]\n",
      "\n",
      " [[5 6]\n",
      "  [7 8]]]\n"
     ]
    }
   ],
   "execution_count": 40
  },
  {
   "metadata": {
    "ExecuteTime": {
     "end_time": "2024-11-26T06:22:05.910579Z",
     "start_time": "2024-11-26T06:22:05.907105Z"
    }
   },
   "cell_type": "code",
   "source": [
    "v1 = [[0, 1, 2, 3, 4, 5],\n",
    "      [6, 7, 8, 9, 10, 11]]\n",
    "v2 = [[12, 13, 14, 15, 16, 17],\n",
    "      [18, 19, 20, 21, 22, 23]]\n",
    "print(np.vstack((v1, v2)))\n",
    "print(np.hstack((v1, v2)))"
   ],
   "id": "ade63b637f471a28",
   "outputs": [
    {
     "name": "stdout",
     "output_type": "stream",
     "text": [
      "[[ 0  1  2  3  4  5]\n",
      " [ 6  7  8  9 10 11]\n",
      " [12 13 14 15 16 17]\n",
      " [18 19 20 21 22 23]]\n",
      "[[ 0  1  2  3  4  5 12 13 14 15 16 17]\n",
      " [ 6  7  8  9 10 11 18 19 20 21 22 23]]\n"
     ]
    }
   ],
   "execution_count": 43
  },
  {
   "metadata": {
    "ExecuteTime": {
     "end_time": "2024-11-26T06:29:39.061486Z",
     "start_time": "2024-11-26T06:29:39.057901Z"
    }
   },
   "cell_type": "code",
   "source": [
    "import numpy as np\n",
    "\n",
    "a = np.arange(12).reshape(3, 4)\n",
    "print(a)\n",
    "print(a.T)\n",
    "print(a)\n",
    "print(np.swapaxes(a, 0, 1))\n",
    "print(a.shape)\n",
    "t1 = np.swapaxes(a, 0, 1)\n",
    "print(t1)\n",
    "print(t1.shape)"
   ],
   "id": "943ae49a3303d78d",
   "outputs": [
    {
     "name": "stdout",
     "output_type": "stream",
     "text": [
      "[[ 0  1  2  3]\n",
      " [ 4  5  6  7]\n",
      " [ 8  9 10 11]]\n",
      "[[ 0  4  8]\n",
      " [ 1  5  9]\n",
      " [ 2  6 10]\n",
      " [ 3  7 11]]\n",
      "[[ 0  1  2  3]\n",
      " [ 4  5  6  7]\n",
      " [ 8  9 10 11]]\n",
      "[[ 0  4  8]\n",
      " [ 1  5  9]\n",
      " [ 2  6 10]\n",
      " [ 3  7 11]]\n",
      "(3, 4)\n",
      "[[ 0  4  8]\n",
      " [ 1  5  9]\n",
      " [ 2  6 10]\n",
      " [ 3  7 11]]\n",
      "(4, 3)\n"
     ]
    }
   ],
   "execution_count": 49
  },
  {
   "metadata": {
    "ExecuteTime": {
     "end_time": "2024-11-26T06:31:10.538928Z",
     "start_time": "2024-11-26T06:31:10.534495Z"
    }
   },
   "cell_type": "code",
   "source": [
    "t3 = np.arange(60).reshape(3, 4, 5)\n",
    "print(t3)\n",
    "print('-' * 50)\n",
    "t4 = np.swapaxes(t3, 0, 1)\n",
    "print(t4)\n",
    "print(t4.shape)\n",
    "t5 = np.swapaxes(t4, 0, 2)\n",
    "print(t5)\n",
    "print(t5.shape)"
   ],
   "id": "aae9435580af3f2d",
   "outputs": [
    {
     "name": "stdout",
     "output_type": "stream",
     "text": [
      "[[[ 0  1  2  3  4]\n",
      "  [ 5  6  7  8  9]\n",
      "  [10 11 12 13 14]\n",
      "  [15 16 17 18 19]]\n",
      "\n",
      " [[20 21 22 23 24]\n",
      "  [25 26 27 28 29]\n",
      "  [30 31 32 33 34]\n",
      "  [35 36 37 38 39]]\n",
      "\n",
      " [[40 41 42 43 44]\n",
      "  [45 46 47 48 49]\n",
      "  [50 51 52 53 54]\n",
      "  [55 56 57 58 59]]]\n",
      "--------------------------------------------------\n",
      "[[[ 0  1  2  3  4]\n",
      "  [20 21 22 23 24]\n",
      "  [40 41 42 43 44]]\n",
      "\n",
      " [[ 5  6  7  8  9]\n",
      "  [25 26 27 28 29]\n",
      "  [45 46 47 48 49]]\n",
      "\n",
      " [[10 11 12 13 14]\n",
      "  [30 31 32 33 34]\n",
      "  [50 51 52 53 54]]\n",
      "\n",
      " [[15 16 17 18 19]\n",
      "  [35 36 37 38 39]\n",
      "  [55 56 57 58 59]]]\n",
      "(4, 3, 5)\n",
      "[[[ 0  5 10 15]\n",
      "  [20 25 30 35]\n",
      "  [40 45 50 55]]\n",
      "\n",
      " [[ 1  6 11 16]\n",
      "  [21 26 31 36]\n",
      "  [41 46 51 56]]\n",
      "\n",
      " [[ 2  7 12 17]\n",
      "  [22 27 32 37]\n",
      "  [42 47 52 57]]\n",
      "\n",
      " [[ 3  8 13 18]\n",
      "  [23 28 33 38]\n",
      "  [43 48 53 58]]\n",
      "\n",
      " [[ 4  9 14 19]\n",
      "  [24 29 34 39]\n",
      "  [44 49 54 59]]]\n",
      "(5, 3, 4)\n"
     ]
    }
   ],
   "execution_count": 52
  },
  {
   "metadata": {
    "ExecuteTime": {
     "end_time": "2024-11-26T06:32:52.620650Z",
     "start_time": "2024-11-26T06:32:52.618166Z"
    }
   },
   "cell_type": "code",
   "source": [
    "t3 = np.arange(60).reshape(3, 4, 5)\n",
    "t4 = np.rollaxis(t3, 2, start=0)\n",
    "print(t4.shape)"
   ],
   "id": "890dd6aad3daa719",
   "outputs": [
    {
     "name": "stdout",
     "output_type": "stream",
     "text": [
      "(5, 3, 4)\n"
     ]
    }
   ],
   "execution_count": 53
  }
 ],
 "metadata": {
  "kernelspec": {
   "display_name": "Python 3",
   "language": "python",
   "name": "python3"
  },
  "language_info": {
   "codemirror_mode": {
    "name": "ipython",
    "version": 2
   },
   "file_extension": ".py",
   "mimetype": "text/x-python",
   "name": "python",
   "nbconvert_exporter": "python",
   "pygments_lexer": "ipython2",
   "version": "2.7.6"
  }
 },
 "nbformat": 4,
 "nbformat_minor": 5
}
