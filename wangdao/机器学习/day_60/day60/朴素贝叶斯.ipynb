{
 "cells": [
  {
   "cell_type": "code",
   "id": "initial_id",
   "metadata": {
    "collapsed": true,
    "ExecuteTime": {
     "end_time": "2024-12-03T07:23:15.057093Z",
     "start_time": "2024-12-03T07:23:15.053746Z"
    }
   },
   "source": [
    "from sklearn.datasets import fetch_20newsgroups\n",
    "from sklearn.feature_extraction.text import TfidfVectorizer\n",
    "from sklearn.naive_bayes import MultinomialNB\n",
    "import numpy as np"
   ],
   "outputs": [],
   "execution_count": 36
  },
  {
   "metadata": {
    "ExecuteTime": {
     "end_time": "2024-12-03T07:23:15.233743Z",
     "start_time": "2024-12-03T07:23:15.064172Z"
    }
   },
   "cell_type": "code",
   "source": [
    "news = fetch_20newsgroups(subset='all', data_home='data')\n",
    "print(type(news))\n",
    "print(len(news.data))\n",
    "print(news.keys())\n",
    "# print(news.DESCR)\n",
    "print(type(news.data))\n",
    "# print(news.data[0])\n",
    "print(news.target.shape)\n",
    "print(news.target_names)"
   ],
   "id": "92f8672f5f62e973",
   "outputs": [
    {
     "name": "stdout",
     "output_type": "stream",
     "text": [
      "<class 'sklearn.utils._bunch.Bunch'>\n",
      "18846\n",
      "dict_keys(['data', 'filenames', 'target_names', 'target', 'DESCR'])\n",
      "<class 'list'>\n",
      "(18846,)\n",
      "['alt.atheism', 'comp.graphics', 'comp.os.ms-windows.misc', 'comp.sys.ibm.pc.hardware', 'comp.sys.mac.hardware', 'comp.windows.x', 'misc.forsale', 'rec.autos', 'rec.motorcycles', 'rec.sport.baseball', 'rec.sport.hockey', 'sci.crypt', 'sci.electronics', 'sci.med', 'sci.space', 'soc.religion.christian', 'talk.politics.guns', 'talk.politics.mideast', 'talk.politics.misc', 'talk.religion.misc']\n"
     ]
    }
   ],
   "execution_count": 37
  },
  {
   "metadata": {
    "ExecuteTime": {
     "end_time": "2024-12-03T07:23:18.359266Z",
     "start_time": "2024-12-03T07:23:15.562506Z"
    }
   },
   "cell_type": "code",
   "source": [
    "from sklearn.model_selection import train_test_split\n",
    "from sklearn.metrics import classification_report\n",
    "from sklearn.metrics import roc_auc_score\n",
    "\n",
    "x_train, x_test, y_train, y_test = train_test_split(news.data, news.target, test_size=0.25, random_state=1)\n",
    "tfidf_vectorizer = TfidfVectorizer()\n",
    "\n",
    "x_train_tfidf = tfidf_vectorizer.fit_transform(x_train)\n",
    "x_test_tfidf = tfidf_vectorizer.transform(x_test)\n",
    "# print(tfidf_vectorizer.get_feature_names_out())\n",
    "\n",
    "multinomial = MultinomialNB(alpha=0.5)\n",
    "multinomial.fit(x_train_tfidf, y_train)\n",
    "print(type(x_train_tfidf))\n",
    "print(x_train_tfidf.toarray().shape)\n",
    "\n",
    "y_predict = multinomial.predict(x_test_tfidf)\n",
    "print('预测值: ', y_predict, '\\nshape: ', len(y_predict))\n",
    "print('准确度: ', multinomial.score(x_test_tfidf, y_test))\n",
    "print('F1分数...: ', classification_report(y_test, y_predict, target_names=news.target_names))\n",
    "y_test = np.where(y_test == 0, 1, 0)\n",
    "y_predict = np.where(y_predict == 0, 1, 0)\n",
    "print('roc-auc-score: ', roc_auc_score(y_test, y_predict))"
   ],
   "id": "c5922dfe3da318f5",
   "outputs": [
    {
     "name": "stdout",
     "output_type": "stream",
     "text": [
      "<class 'scipy.sparse._csr.csr_matrix'>\n",
      "(14134, 153196)\n",
      "预测值:  [16 19 18 ... 13  7 14] \n",
      "shape:  4712\n",
      "准确度:  0.8730899830220713\n",
      "F1分数...:                            precision    recall  f1-score   support\n",
      "\n",
      "             alt.atheism       0.92      0.84      0.88       199\n",
      "           comp.graphics       0.82      0.83      0.83       242\n",
      " comp.os.ms-windows.misc       0.89      0.84      0.86       263\n",
      "comp.sys.ibm.pc.hardware       0.80      0.85      0.82       262\n",
      "   comp.sys.mac.hardware       0.89      0.88      0.88       234\n",
      "          comp.windows.x       0.93      0.85      0.89       230\n",
      "            misc.forsale       0.95      0.71      0.81       257\n",
      "               rec.autos       0.91      0.88      0.89       265\n",
      "         rec.motorcycles       0.89      0.96      0.93       251\n",
      "      rec.sport.baseball       0.91      0.97      0.94       226\n",
      "        rec.sport.hockey       0.97      0.98      0.97       262\n",
      "               sci.crypt       0.81      0.97      0.88       257\n",
      "         sci.electronics       0.85      0.85      0.85       229\n",
      "                 sci.med       0.97      0.89      0.93       249\n",
      "               sci.space       0.94      0.96      0.95       256\n",
      "  soc.religion.christian       0.66      0.97      0.79       243\n",
      "      talk.politics.guns       0.78      0.97      0.86       234\n",
      "   talk.politics.mideast       0.94      0.99      0.96       224\n",
      "      talk.politics.misc       0.97      0.65      0.78       197\n",
      "      talk.religion.misc       0.98      0.35      0.51       132\n",
      "\n",
      "                accuracy                           0.87      4712\n",
      "               macro avg       0.89      0.86      0.86      4712\n",
      "            weighted avg       0.89      0.87      0.87      4712\n",
      "\n",
      "roc-auc-score:  0.9204486870425694\n"
     ]
    }
   ],
   "execution_count": 38
  }
 ],
 "metadata": {
  "kernelspec": {
   "display_name": "Python 3",
   "language": "python",
   "name": "python3"
  },
  "language_info": {
   "codemirror_mode": {
    "name": "ipython",
    "version": 2
   },
   "file_extension": ".py",
   "mimetype": "text/x-python",
   "name": "python",
   "nbconvert_exporter": "python",
   "pygments_lexer": "ipython2",
   "version": "2.7.6"
  }
 },
 "nbformat": 4,
 "nbformat_minor": 5
}
